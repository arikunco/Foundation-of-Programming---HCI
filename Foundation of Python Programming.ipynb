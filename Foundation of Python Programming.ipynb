{
 "cells": [
  {
   "cell_type": "markdown",
   "metadata": {},
   "source": [
    "# Foundation of Python Programming"
   ]
  },
  {
   "cell_type": "markdown",
   "metadata": {},
   "source": [
    "This file is a foundation of Python programming notes during Home Credit Indonesia Data Science Academy 2019\n",
    "\n",
    "Author: Bernardus Ari Kuncoro \n",
    "<br> Date: 23 October 2019"
   ]
  },
  {
   "cell_type": "markdown",
   "metadata": {},
   "source": [
    "## Outline \n",
    "### Session 1: Intro, Arithmetic, List, Function, Method, Loop \n",
    "### Session 2: np-Array, Dictionary, pd-Dataframe\n",
    "### Session 3: Data Cleansing \n",
    "### Session 4: Use Case and Exercise "
   ]
  },
  {
   "cell_type": "markdown",
   "metadata": {},
   "source": [
    "Website of Home Credit Indonesia is [here](https://www.homecredit.co.id).\n",
    "\n",
    "Website of Home Credit Indonesia is [here](https://www.homecredit.co.id \"Silakan klik untuk kunjungi web Home Credit Indonesia\")."
   ]
  },
  {
   "cell_type": "markdown",
   "metadata": {},
   "source": [
    "* * * "
   ]
  },
  {
   "cell_type": "markdown",
   "metadata": {},
   "source": [
    "***"
   ]
  },
  {
   "cell_type": "markdown",
   "metadata": {},
   "source": [
    "The participants of HCI Data Science Academy are: \n",
    "    \n",
    "1. Tri\n",
    "    1. **Major**: __Mathematics__ \n",
    "        1. *Minor: Pure Mathematics*\n",
    "    2. **Hobby**: _Watching YouTube_\n",
    "2. Mike \n",
    "    1. **_Major: Computer Science_** \n",
    "    2. Hobby: Bowling\n",
    "3. Andre \n",
    "4. Gunawan\n",
    "5. Billy \n",
    "6. Joshua\n",
    "7. Gilang \n",
    "8. Nirta \n",
    "9. Herdis \n",
    "10. Samuel \n",
    "11. Haries \n",
    "12. Rangga \n",
    "13. Hari \n",
    "14. Okky\n",
    "\n"
   ]
  },
  {
   "cell_type": "markdown",
   "metadata": {},
   "source": [
    "![Gambar HCI](hci_logo.png)"
   ]
  },
  {
   "cell_type": "code",
   "execution_count": 8,
   "metadata": {},
   "outputs": [
    {
     "name": "stdout",
     "output_type": "stream",
     "text": [
      "3.6.8\n"
     ]
    }
   ],
   "source": [
    "from platform import python_version\n",
    "print(python_version())"
   ]
  },
  {
   "cell_type": "code",
   "execution_count": 9,
   "metadata": {},
   "outputs": [],
   "source": [
    "apel = 8 \n",
    "apel_malang = 10"
   ]
  },
  {
   "cell_type": "code",
   "execution_count": 10,
   "metadata": {},
   "outputs": [],
   "source": [
    "import math"
   ]
  },
  {
   "cell_type": "code",
   "execution_count": 11,
   "metadata": {},
   "outputs": [
    {
     "data": {
      "text/plain": [
       "2.0"
      ]
     },
     "execution_count": 11,
     "metadata": {},
     "output_type": "execute_result"
    }
   ],
   "source": [
    "math.sqrt(4)"
   ]
  },
  {
   "cell_type": "code",
   "execution_count": 13,
   "metadata": {},
   "outputs": [
    {
     "name": "stdout",
     "output_type": "stream",
     "text": [
      "<class 'pandas.core.frame.DataFrame'>\n",
      "  ctrcode        country  drives_right  cars_per_cap\n",
      "0      US  United States          True           809\n",
      "1     AUS      Australia         False           731\n",
      "2     JPN          Japan         False           588\n",
      "3      IN          India         False            18\n",
      "4     RUS         Russia          True           200\n",
      "5     MOR        Morocco          True            70\n",
      "6      EG          Egypt          True            45\n",
      "(7, 3)\n"
     ]
    },
    {
     "data": {
      "text/html": [
       "<div>\n",
       "<style scoped>\n",
       "    .dataframe tbody tr th:only-of-type {\n",
       "        vertical-align: middle;\n",
       "    }\n",
       "\n",
       "    .dataframe tbody tr th {\n",
       "        vertical-align: top;\n",
       "    }\n",
       "\n",
       "    .dataframe thead th {\n",
       "        text-align: right;\n",
       "    }\n",
       "</style>\n",
       "<table border=\"1\" class=\"dataframe\">\n",
       "  <thead>\n",
       "    <tr style=\"text-align: right;\">\n",
       "      <th></th>\n",
       "      <th>country</th>\n",
       "      <th>drives_right</th>\n",
       "      <th>cars_per_cap</th>\n",
       "    </tr>\n",
       "    <tr>\n",
       "      <th>ctrcode</th>\n",
       "      <th></th>\n",
       "      <th></th>\n",
       "      <th></th>\n",
       "    </tr>\n",
       "  </thead>\n",
       "  <tbody>\n",
       "    <tr>\n",
       "      <th>US</th>\n",
       "      <td>United States</td>\n",
       "      <td>True</td>\n",
       "      <td>809</td>\n",
       "    </tr>\n",
       "    <tr>\n",
       "      <th>AUS</th>\n",
       "      <td>Australia</td>\n",
       "      <td>False</td>\n",
       "      <td>731</td>\n",
       "    </tr>\n",
       "    <tr>\n",
       "      <th>JPN</th>\n",
       "      <td>Japan</td>\n",
       "      <td>False</td>\n",
       "      <td>588</td>\n",
       "    </tr>\n",
       "    <tr>\n",
       "      <th>IN</th>\n",
       "      <td>India</td>\n",
       "      <td>False</td>\n",
       "      <td>18</td>\n",
       "    </tr>\n",
       "    <tr>\n",
       "      <th>RUS</th>\n",
       "      <td>Russia</td>\n",
       "      <td>True</td>\n",
       "      <td>200</td>\n",
       "    </tr>\n",
       "    <tr>\n",
       "      <th>MOR</th>\n",
       "      <td>Morocco</td>\n",
       "      <td>True</td>\n",
       "      <td>70</td>\n",
       "    </tr>\n",
       "    <tr>\n",
       "      <th>EG</th>\n",
       "      <td>Egypt</td>\n",
       "      <td>True</td>\n",
       "      <td>45</td>\n",
       "    </tr>\n",
       "  </tbody>\n",
       "</table>\n",
       "</div>"
      ],
      "text/plain": [
       "               country  drives_right  cars_per_cap\n",
       "ctrcode                                           \n",
       "US       United States          True           809\n",
       "AUS          Australia         False           731\n",
       "JPN              Japan         False           588\n",
       "IN               India         False            18\n",
       "RUS             Russia          True           200\n",
       "MOR            Morocco          True            70\n",
       "EG               Egypt          True            45"
      ]
     },
     "execution_count": 13,
     "metadata": {},
     "output_type": "execute_result"
    }
   ],
   "source": [
    "import pandas as pd \n",
    "code = ['US', 'AUS', 'JPN', 'IN', 'RUS', 'MOR', 'EG']\n",
    "names = ['United States', 'Australia', 'Japan', 'India', 'Russia','Morocco', 'Egypt']\n",
    "dr = [True, False, False, False, True, True, True]\n",
    "cpc = [809, 731, 588, 18, 200, 70, 45]\n",
    "\n",
    "# Create dictionary my_dict with three key:value pairs: my_dict\n",
    "my_dict = {'ctrcode':code, 'country':names, 'drives_right':dr, 'cars_per_cap':cpc}\n",
    "\n",
    "cars = pd.DataFrame(my_dict)\n",
    "\n",
    "print(type(cars))\n",
    "print(cars)\n",
    "\n",
    "# Set DF Column Index\n",
    "cars_id = cars.set_index(\"ctrcode\")\n",
    "print(cars_id.shape)\n",
    "cars_id\n"
   ]
  },
  {
   "cell_type": "code",
   "execution_count": 14,
   "metadata": {},
   "outputs": [
    {
     "data": {
      "text/html": [
       "<div>\n",
       "<style scoped>\n",
       "    .dataframe tbody tr th:only-of-type {\n",
       "        vertical-align: middle;\n",
       "    }\n",
       "\n",
       "    .dataframe tbody tr th {\n",
       "        vertical-align: top;\n",
       "    }\n",
       "\n",
       "    .dataframe thead th {\n",
       "        text-align: right;\n",
       "    }\n",
       "</style>\n",
       "<table border=\"1\" class=\"dataframe\">\n",
       "  <thead>\n",
       "    <tr style=\"text-align: right;\">\n",
       "      <th></th>\n",
       "      <th>country</th>\n",
       "      <th>drives_right</th>\n",
       "      <th>cars_per_cap</th>\n",
       "    </tr>\n",
       "    <tr>\n",
       "      <th>ctrcode</th>\n",
       "      <th></th>\n",
       "      <th></th>\n",
       "      <th></th>\n",
       "    </tr>\n",
       "  </thead>\n",
       "  <tbody>\n",
       "    <tr>\n",
       "      <th>US</th>\n",
       "      <td>United States</td>\n",
       "      <td>True</td>\n",
       "      <td>809</td>\n",
       "    </tr>\n",
       "    <tr>\n",
       "      <th>AUS</th>\n",
       "      <td>Australia</td>\n",
       "      <td>False</td>\n",
       "      <td>731</td>\n",
       "    </tr>\n",
       "    <tr>\n",
       "      <th>JPN</th>\n",
       "      <td>Japan</td>\n",
       "      <td>False</td>\n",
       "      <td>588</td>\n",
       "    </tr>\n",
       "  </tbody>\n",
       "</table>\n",
       "</div>"
      ],
      "text/plain": [
       "               country  drives_right  cars_per_cap\n",
       "ctrcode                                           \n",
       "US       United States          True           809\n",
       "AUS          Australia         False           731\n",
       "JPN              Japan         False           588"
      ]
     },
     "execution_count": 14,
     "metadata": {},
     "output_type": "execute_result"
    }
   ],
   "source": [
    "cars_id[0:3]"
   ]
  },
  {
   "cell_type": "code",
   "execution_count": 31,
   "metadata": {},
   "outputs": [
    {
     "data": {
      "text/html": [
       "<div>\n",
       "<style scoped>\n",
       "    .dataframe tbody tr th:only-of-type {\n",
       "        vertical-align: middle;\n",
       "    }\n",
       "\n",
       "    .dataframe tbody tr th {\n",
       "        vertical-align: top;\n",
       "    }\n",
       "\n",
       "    .dataframe thead th {\n",
       "        text-align: right;\n",
       "    }\n",
       "</style>\n",
       "<table border=\"1\" class=\"dataframe\">\n",
       "  <thead>\n",
       "    <tr style=\"text-align: right;\">\n",
       "      <th></th>\n",
       "      <th>country</th>\n",
       "    </tr>\n",
       "    <tr>\n",
       "      <th>ctrcode</th>\n",
       "      <th></th>\n",
       "    </tr>\n",
       "  </thead>\n",
       "  <tbody>\n",
       "    <tr>\n",
       "      <th>US</th>\n",
       "      <td>United States</td>\n",
       "    </tr>\n",
       "    <tr>\n",
       "      <th>AUS</th>\n",
       "      <td>Australia</td>\n",
       "    </tr>\n",
       "    <tr>\n",
       "      <th>JPN</th>\n",
       "      <td>Japan</td>\n",
       "    </tr>\n",
       "    <tr>\n",
       "      <th>IN</th>\n",
       "      <td>India</td>\n",
       "    </tr>\n",
       "    <tr>\n",
       "      <th>RUS</th>\n",
       "      <td>Russia</td>\n",
       "    </tr>\n",
       "    <tr>\n",
       "      <th>MOR</th>\n",
       "      <td>Morocco</td>\n",
       "    </tr>\n",
       "    <tr>\n",
       "      <th>EG</th>\n",
       "      <td>Egypt</td>\n",
       "    </tr>\n",
       "  </tbody>\n",
       "</table>\n",
       "</div>"
      ],
      "text/plain": [
       "               country\n",
       "ctrcode               \n",
       "US       United States\n",
       "AUS          Australia\n",
       "JPN              Japan\n",
       "IN               India\n",
       "RUS             Russia\n",
       "MOR            Morocco\n",
       "EG               Egypt"
      ]
     },
     "execution_count": 31,
     "metadata": {},
     "output_type": "execute_result"
    }
   ],
   "source": [
    "cars_id[['country']]"
   ]
  },
  {
   "cell_type": "code",
   "execution_count": 32,
   "metadata": {},
   "outputs": [],
   "source": [
    "import pandas as pd"
   ]
  },
  {
   "cell_type": "code",
   "execution_count": 36,
   "metadata": {},
   "outputs": [],
   "source": [
    "imdb = pd.read_csv('https://raw.githubusercontent.com/scalabretta/GroupProject--IMDB/master/Dataset/IMDB-database-update.csv',encoding='latin1')"
   ]
  },
  {
   "cell_type": "code",
   "execution_count": 37,
   "metadata": {},
   "outputs": [
    {
     "data": {
      "text/html": [
       "<div>\n",
       "<style scoped>\n",
       "    .dataframe tbody tr th:only-of-type {\n",
       "        vertical-align: middle;\n",
       "    }\n",
       "\n",
       "    .dataframe tbody tr th {\n",
       "        vertical-align: top;\n",
       "    }\n",
       "\n",
       "    .dataframe thead th {\n",
       "        text-align: right;\n",
       "    }\n",
       "</style>\n",
       "<table border=\"1\" class=\"dataframe\">\n",
       "  <thead>\n",
       "    <tr style=\"text-align: right;\">\n",
       "      <th></th>\n",
       "      <th>movie_ID</th>\n",
       "      <th>movie_title</th>\n",
       "      <th>duration</th>\n",
       "      <th>color</th>\n",
       "      <th>title_year</th>\n",
       "      <th>country</th>\n",
       "      <th>language</th>\n",
       "      <th>content_rating</th>\n",
       "      <th>budget_USD</th>\n",
       "      <th>gross_USD</th>\n",
       "      <th>...</th>\n",
       "      <th>actor_3_facebook?</th>\n",
       "      <th>actor_3_facebook_likes</th>\n",
       "      <th>cast_total_facebook_likes</th>\n",
       "      <th>movie_facebook?</th>\n",
       "      <th>movie_facebook_likes;</th>\n",
       "      <th>facenumber_in_poster</th>\n",
       "      <th>num_voted_users</th>\n",
       "      <th>num_user_for_reviews</th>\n",
       "      <th>imdb_score</th>\n",
       "      <th>imdb_top_250</th>\n",
       "    </tr>\n",
       "  </thead>\n",
       "  <tbody>\n",
       "    <tr>\n",
       "      <th>0</th>\n",
       "      <td>1</td>\n",
       "      <td>Avatar</td>\n",
       "      <td>178</td>\n",
       "      <td>1</td>\n",
       "      <td>2009</td>\n",
       "      <td>USA</td>\n",
       "      <td>English</td>\n",
       "      <td>PG-13</td>\n",
       "      <td>237000000</td>\n",
       "      <td>760505847</td>\n",
       "      <td>...</td>\n",
       "      <td>1</td>\n",
       "      <td>855</td>\n",
       "      <td>4834</td>\n",
       "      <td>1</td>\n",
       "      <td>33000</td>\n",
       "      <td>0</td>\n",
       "      <td>886204</td>\n",
       "      <td>3054</td>\n",
       "      <td>7.9</td>\n",
       "      <td>0</td>\n",
       "    </tr>\n",
       "    <tr>\n",
       "      <th>1</th>\n",
       "      <td>2</td>\n",
       "      <td>Pirates of the Caribbean: At World's End</td>\n",
       "      <td>169</td>\n",
       "      <td>1</td>\n",
       "      <td>2007</td>\n",
       "      <td>USA</td>\n",
       "      <td>English</td>\n",
       "      <td>PG-13</td>\n",
       "      <td>300000000</td>\n",
       "      <td>309404152</td>\n",
       "      <td>...</td>\n",
       "      <td>1</td>\n",
       "      <td>1000</td>\n",
       "      <td>48350</td>\n",
       "      <td>0</td>\n",
       "      <td>0</td>\n",
       "      <td>0</td>\n",
       "      <td>471220</td>\n",
       "      <td>1238</td>\n",
       "      <td>7.1</td>\n",
       "      <td>0</td>\n",
       "    </tr>\n",
       "    <tr>\n",
       "      <th>2</th>\n",
       "      <td>3</td>\n",
       "      <td>The Dark Knight Rises</td>\n",
       "      <td>164</td>\n",
       "      <td>1</td>\n",
       "      <td>2012</td>\n",
       "      <td>USA</td>\n",
       "      <td>English</td>\n",
       "      <td>PG-13</td>\n",
       "      <td>250000000</td>\n",
       "      <td>448130642</td>\n",
       "      <td>...</td>\n",
       "      <td>1</td>\n",
       "      <td>23000</td>\n",
       "      <td>106759</td>\n",
       "      <td>1</td>\n",
       "      <td>164000</td>\n",
       "      <td>0</td>\n",
       "      <td>1144337</td>\n",
       "      <td>2701</td>\n",
       "      <td>8.5</td>\n",
       "      <td>1</td>\n",
       "    </tr>\n",
       "    <tr>\n",
       "      <th>3</th>\n",
       "      <td>4</td>\n",
       "      <td>Spider-Man 3</td>\n",
       "      <td>156</td>\n",
       "      <td>1</td>\n",
       "      <td>2007</td>\n",
       "      <td>USA</td>\n",
       "      <td>English</td>\n",
       "      <td>PG-13</td>\n",
       "      <td>258000000</td>\n",
       "      <td>336530303</td>\n",
       "      <td>...</td>\n",
       "      <td>1</td>\n",
       "      <td>4000</td>\n",
       "      <td>46055</td>\n",
       "      <td>0</td>\n",
       "      <td>0</td>\n",
       "      <td>0</td>\n",
       "      <td>383056</td>\n",
       "      <td>1902</td>\n",
       "      <td>6.2</td>\n",
       "      <td>0</td>\n",
       "    </tr>\n",
       "    <tr>\n",
       "      <th>4</th>\n",
       "      <td>5</td>\n",
       "      <td>Batman v Superman: Dawn of Justice</td>\n",
       "      <td>183</td>\n",
       "      <td>1</td>\n",
       "      <td>2016</td>\n",
       "      <td>USA</td>\n",
       "      <td>English</td>\n",
       "      <td>PG-13</td>\n",
       "      <td>250000000</td>\n",
       "      <td>330249062</td>\n",
       "      <td>...</td>\n",
       "      <td>1</td>\n",
       "      <td>2000</td>\n",
       "      <td>24450</td>\n",
       "      <td>1</td>\n",
       "      <td>197000</td>\n",
       "      <td>0</td>\n",
       "      <td>371639</td>\n",
       "      <td>3018</td>\n",
       "      <td>6.9</td>\n",
       "      <td>0</td>\n",
       "    </tr>\n",
       "  </tbody>\n",
       "</table>\n",
       "<p>5 rows × 36 columns</p>\n",
       "</div>"
      ],
      "text/plain": [
       "   movie_ID                               movie_title  duration  color  \\\n",
       "0         1                                    Avatar       178      1   \n",
       "1         2  Pirates of the Caribbean: At World's End       169      1   \n",
       "2         3                     The Dark Knight Rises       164      1   \n",
       "3         4                              Spider-Man 3       156      1   \n",
       "4         5        Batman v Superman: Dawn of Justice       183      1   \n",
       "\n",
       "   title_year country language content_rating  budget_USD  gross_USD  \\\n",
       "0        2009     USA  English          PG-13   237000000  760505847   \n",
       "1        2007     USA  English          PG-13   300000000  309404152   \n",
       "2        2012     USA  English          PG-13   250000000  448130642   \n",
       "3        2007     USA  English          PG-13   258000000  336530303   \n",
       "4        2016     USA  English          PG-13   250000000  330249062   \n",
       "\n",
       "       ...       actor_3_facebook?  actor_3_facebook_likes  \\\n",
       "0      ...                       1                     855   \n",
       "1      ...                       1                    1000   \n",
       "2      ...                       1                   23000   \n",
       "3      ...                       1                    4000   \n",
       "4      ...                       1                    2000   \n",
       "\n",
       "  cast_total_facebook_likes movie_facebook?  movie_facebook_likes;  \\\n",
       "0                      4834               1                  33000   \n",
       "1                     48350               0                      0   \n",
       "2                    106759               1                 164000   \n",
       "3                     46055               0                      0   \n",
       "4                     24450               1                 197000   \n",
       "\n",
       "   facenumber_in_poster num_voted_users  num_user_for_reviews  imdb_score  \\\n",
       "0                     0          886204                  3054         7.9   \n",
       "1                     0          471220                  1238         7.1   \n",
       "2                     0         1144337                  2701         8.5   \n",
       "3                     0          383056                  1902         6.2   \n",
       "4                     0          371639                  3018         6.9   \n",
       "\n",
       "   imdb_top_250  \n",
       "0             0  \n",
       "1             0  \n",
       "2             1  \n",
       "3             0  \n",
       "4             0  \n",
       "\n",
       "[5 rows x 36 columns]"
      ]
     },
     "execution_count": 37,
     "metadata": {},
     "output_type": "execute_result"
    }
   ],
   "source": [
    "imdb.head()"
   ]
  },
  {
   "cell_type": "code",
   "execution_count": null,
   "metadata": {},
   "outputs": [],
   "source": []
  }
 ],
 "metadata": {
  "kernelspec": {
   "display_name": "Python 3",
   "language": "python",
   "name": "python3"
  },
  "language_info": {
   "codemirror_mode": {
    "name": "ipython",
    "version": 3
   },
   "file_extension": ".py",
   "mimetype": "text/x-python",
   "name": "python",
   "nbconvert_exporter": "python",
   "pygments_lexer": "ipython3",
   "version": "3.6.8"
  }
 },
 "nbformat": 4,
 "nbformat_minor": 2
}
